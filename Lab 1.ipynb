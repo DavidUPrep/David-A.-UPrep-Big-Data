{
 "cells": [
  {
   "cell_type": "markdown",
   "metadata": {},
   "source": [
    " # Lab Number One - Analysis of City of Seattle Wage Data"
   ]
  },
  {
   "cell_type": "markdown",
   "metadata": {},
   "source": [
    " ## David Abramowitz\n",
    "### AUG27, 2018"
   ]
  },
  {
   "cell_type": "markdown",
   "metadata": {},
   "source": [
    "## Abstract"
   ]
  },
  {
   "cell_type": "markdown",
   "metadata": {},
   "source": [
    "In this lab, the data on the salaries of all employees of the City of Seattle was examined with the goal of finding who earns the most, the least, and what the average salary is. The mean salary was found to be $39.59 per hour. The lowest wage is $5.53 and highest is $137.79 per hour (rounded). "
   ]
  },
  {
   "cell_type": "markdown",
   "metadata": {},
   "source": [
    "## Dataset Preparation"
   ]
  },
  {
   "cell_type": "markdown",
   "metadata": {},
   "source": [
    "The first thing that was done to the data was seperating wage information from title and name information. After that, the mean salary was found. Also, the lowest and highest wages in the data were found; there corresponding names and titles were also found. This dataset represents the salary of every individual on the city government's payroll.\n",
    "\n",
    "After the data was stored in an empty list, this is what happened to the data:\n",
    "- The data was split into two lists, one for wages and the other for names and titles\n",
    "- The average salary was found\n",
    "- The minimum and maximun salaries were found\n",
    "- These minimums and maximums were then associated with their corresponding names and titles"
   ]
  },
  {
   "cell_type": "code",
   "execution_count": 46,
   "metadata": {},
   "outputs": [
    {
     "name": "stdout",
     "output_type": "stream",
     "text": [
      "['Hourly Rate,Employee: First Name Last Name  Job Title: Job Title  Department: Department\\n', '53.79,Employee: Leslie Kennedy  Job Title: StratAdvsr2 General Govt  Department: Finance & Admin Services Dept\\n', '51.574,Employee: Christina Johnson  Job Title: StratAdvsr2 General Govt  Department: Finance & Admin Services Dept\\n', '54.84,Employee: Michael Johnson  Job Title: StratAdvsr2 General Govt  Department: Finance & Admin Services Dept\\n', '25.54,Employee: Michael Mustello  Job Title: Cust Svc Rep  Department: Finance & Admin Services Dept\\n']\n"
     ]
    }
   ],
   "source": [
    "#open the file\n",
    "data_file = open(\"Simplified_City_of_Seattle_Wage_Data.csv\", \"r\");\n",
    "\n",
    "#make an empty list to store the wage data\n",
    "wage_list = [];\n",
    "\n",
    "#put all of the lines from the CSV file in our list\n",
    "for row in data_file:\n",
    "    wage_list.append(row);\n",
    "    \n",
    "#close the file\n",
    "data_file.close();\n",
    "\n",
    "#check that the file was read into the list properly\n",
    "print(wage_list[:5])\n",
    "    \n",
    "    "
   ]
  },
  {
   "cell_type": "markdown",
   "metadata": {},
   "source": [
    "Description of splitting the data"
   ]
  },
  {
   "cell_type": "code",
   "execution_count": 47,
   "metadata": {},
   "outputs": [
    {
     "name": "stdout",
     "output_type": "stream",
     "text": [
      "[53.79, 51.574, 54.84, 25.54, 27.49]\n",
      "['Employee: Leslie Kennedy  Job Title: StratAdvsr2 General Govt  Department: Finance & Admin Services Dept\\n', 'Employee: Christina Johnson  Job Title: StratAdvsr2 General Govt  Department: Finance & Admin Services Dept\\n', 'Employee: Michael Johnson  Job Title: StratAdvsr2 General Govt  Department: Finance & Admin Services Dept\\n', 'Employee: Michael Mustello  Job Title: Cust Svc Rep  Department: Finance & Admin Services Dept\\n', 'Employee: Sokleng Kin  Job Title: Cust Svc Rep Sr  Department: Finance & Admin Services Dept\\n']\n"
     ]
    }
   ],
   "source": [
    "#remove the column header from wage list\n",
    "del wage_list[0];\n",
    "\n",
    "#create empty lists for salary and name information\n",
    "salary_list = [];\n",
    "name_list = [];\n",
    "for item in range(len(wage_list)):\n",
    "    #split the item into two parts and insert into original list\n",
    "    wage_list[item] = wage_list[item].split(\",\")\n",
    "    \n",
    "    #add the two items to the seperate salary and name lists\n",
    "    salary_list.append(float((wage_list[item][0]))) \n",
    "    name_list.append(wage_list[item][1])\n",
    "#Check that lists were split correctly   \n",
    "print(salary_list[:5])\n",
    "print(name_list[:5])"
   ]
  },
  {
   "cell_type": "code",
   "execution_count": 48,
   "metadata": {},
   "outputs": [
    {
     "name": "stdout",
     "output_type": "stream",
     "text": [
      "Total number of employees 12934\n",
      "Total amount of hourly wages paid to city employees 511992.64519999747\n",
      "Average salary of city employees 39.58501973094151\n"
     ]
    }
   ],
   "source": [
    "#Finding average of all salaries in the list\n",
    "count = len(salary_list)\n",
    "print(\"Total number of employees\", count)\n",
    "total = sum(salary_list)\n",
    "print(\"Total amount of hourly wages paid to city employees\", total)\n",
    "average=total/count\n",
    "print(\"Average salary of city employees\", average)"
   ]
  },
  {
   "cell_type": "code",
   "execution_count": 49,
   "metadata": {},
   "outputs": [
    {
     "name": "stdout",
     "output_type": "stream",
     "text": [
      "min salary is  5.53  max salary is  137.788\n",
      "Employee: Amy Bonfrisco  Job Title: Civil Svc Commissioner  Department: Civil Service Commissions Dept\n",
      "\n",
      "Employee: Mami Hara  Job Title: SPU General Mgr&CEO  Department: Seattle Public Utilities\n",
      "\n"
     ]
    }
   ],
   "source": [
    "#Finding the min and max salaries (one of the lowest employees is...)\n",
    "min_salary = min(salary_list)\n",
    "max_salary = max(salary_list)\n",
    "print(\"min salary is \", min_salary, \" max salary is \", max_salary  )\n",
    "\n",
    "#Finding corresponding names\n",
    "min_index = salary_list.index(min_salary)\n",
    "print(name_list[min_index])\n",
    "max_index = salary_list.index(max_salary)\n",
    "print(name_list[max_index])"
   ]
  },
  {
   "cell_type": "markdown",
   "metadata": {},
   "source": [
    "## Data Modeling"
   ]
  },
  {
   "cell_type": "markdown",
   "metadata": {},
   "source": [
    "The nature of this lab was such that no modeling would be done. "
   ]
  },
  {
   "cell_type": "markdown",
   "metadata": {},
   "source": [
    "## Analysis and Conclusion"
   ]
  },
  {
   "cell_type": "markdown",
   "metadata": {},
   "source": [
    "The mean salary for the city of Seattle has been found to be 39.59 dollars per hour. We also found that the lowest earning employee in the City of Seattle payroll is Amy Bonfrisco who earns 5.53 dollars an hour, and the highest earning employee is Mami Hara who earns 137.79 dollars per hour. These values have been rounded to the nearest hundredth. Areas for further exploration include other employees who have the same salary, why the mayor does not have the highest salary, what about being the role of GM and CEO of SPU makes it such a lucrative position (one possible theory is retention concerns between the public and private sectors). Also, how is wage of less than the federal minimum wage of $7.25 per hour possible? What about that specific position allows for a well below minimum wage?"
   ]
  },
  {
   "cell_type": "markdown",
   "metadata": {},
   "source": [
    "## Acknowledgements"
   ]
  },
  {
   "cell_type": "markdown",
   "metadata": {},
   "source": [
    "All of the code found in \"Dataset Preparation\" came from Ms. Sconyers. She also provided help in simplifying the dataset and assisted with the written content of the lab. Also, this work could not have been possible had the City of Seattle not published the data on their employees.  "
   ]
  }
 ],
 "metadata": {
  "kernelspec": {
   "display_name": "Python 3",
   "language": "python",
   "name": "python3"
  },
  "language_info": {
   "codemirror_mode": {
    "name": "ipython",
    "version": 3
   },
   "file_extension": ".py",
   "mimetype": "text/x-python",
   "name": "python",
   "nbconvert_exporter": "python",
   "pygments_lexer": "ipython3",
   "version": "3.6.5"
  }
 },
 "nbformat": 4,
 "nbformat_minor": 2
}
